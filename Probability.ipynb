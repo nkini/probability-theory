{
 "cells": [
  {
   "cell_type": "markdown",
   "metadata": {},
   "source": [
    "# Distributions"
   ]
  },
  {
   "cell_type": "markdown",
   "metadata": {},
   "source": [
    "- Look at probability in terms of a function. How does a function work?\n",
    "    - You give it an input x, and it spits out a value y.\n",
    "\n",
    "\n",
    "- So what does a probability function do, if you give it the value x?\n",
    "    - It will tell you the probability that that x will be the value returned by some experiment where the outcomes are random.\n",
    "\n",
    "\n",
    "- In a dice throw, for example\n",
    "    - If i call the function p(3), i'll get the response 1/6\n",
    "\n",
    "\n",
    "- What does the discrete version of the normal distribution look like?\n",
    "    - Here it is: X is the set of outcomes on, say, the roll of a 100 sided die 1000 times:  \n",
    "X = [63,74,75,76,77,77,78,79,79,79,79,79,80,80,80,80,80,80,80,80,80,81,81,81,81,81,81,81,81,81,82,82,82,82,82,82,82,82,83,83,83,83,83,83,83,83,84,84,84,84,84,84,84,84,85,85,85,85,85,85,85,85,85,85,85,85,85,85,85,86,86,86,86,86,86,86,86,86,86,86,86,86,86,86,86,86,86,86,87,87,87,87,87,87,87,87,87,87,88,88,88,88,88,88,88,88,88,88,88,88,88,88,89,89,89,89,89,89,89,89,89,89,89,89,89,89,89,89,89,89,89,89,89,89,89,89,89,89,90,90,90,90,90,90,90,90,90,90,90,90,90,90,90,90,90,90,90,90,90,90,90,91,91,91,91,91,91,91,91,91,91,91,91,91,91,91,91,91,91,91,91,91,91,92,92,92,92,92,92,92,92,92,92,92,92,92,92,92,92,92,92,92,92,92,92,92,92,92,92,92,92,92,92,93,93,93,93,93,93,93,93,93,93,93,93,93,93,93,93,93,93,93,93,93,93,93,93,93,93,93,93,94,94,94,94,94,94,94,94,94,94,94,94,94,94,94,94,94,94,94,94,94,94,94,94,94,94,94,94,94,94,94,94,94,94,94,94,94,94,94,94,94,94,95,95,95,95,95,95,95,95,95,95,95,95,95,95,95,95,95,95,95,95,95,95,95,95,95,95,95,95,95,95,95,95,95,95,95,95,95,96,96,96,96,96,96,96,96,96,96,96,96,96,96,96,96,96,96,96,96,96,96,96,96,96,96,96,96,97,97,97,97,97,97,97,97,97,97,97,97,97,97,97,97,97,97,97,97,97,97,97,97,97,97,97,97,97,97,97,97,97,97,97,97,97,97,97,97,97,98,98,98,98,98,98,98,98,98,98,98,98,98,98,98,98,98,98,98,98,98,98,98,98,98,98,98,98,98,98,98,98,98,98,98,98,98,98,98,99,99,99,99,99,99,99,99,99,99,99,99,99,99,99,99,99,99,99,99,99,99,99,99,99,99,99,99,99,99,99,99,99,99,99,99,99,99,99,99,99,99,100,100,100,100,100,100,100,100,100,100,100,100,100,100,100,100,100,100,100,100,100,100,100,100,100,100,100,100,100,100,100,100,100,100,100,100,100,100,100,100,100,100,100,100,100,100,100,101,101,101,101,101,101,101,101,101,101,101,101,101,101,101,101,101,101,101,101,101,101,101,101,101,101,101,101,101,101,101,101,101,101,101,101,101,101,102,102,102,102,102,102,102,102,102,102,102,102,102,102,102,102,102,102,102,102,102,102,102,102,102,102,102,102,102,102,102,102,102,102,102,102,102,103,103,103,103,103,103,103,103,103,103,103,103,103,103,103,103,103,103,103,103,103,103,103,103,103,103,103,103,103,103,103,103,103,103,103,103,103,103,103,103,103,103,103,103,103,103,103,103,104,104,104,104,104,104,104,104,104,104,104,104,104,104,104,104,104,104,104,104,104,104,104,104,104,104,104,104,104,104,104,104,104,104,104,104,104,104,104,104,104,104,104,104,104,105,105,105,105,105,105,105,105,105,105,105,105,105,105,105,105,105,105,105,105,105,105,105,105,105,105,105,105,105,105,105,105,105,106,106,106,106,106,106,106,106,106,106,106,106,106,106,106,106,106,106,106,106,106,106,106,106,106,106,107,107,107,107,107,107,107,107,107,107,107,107,107,107,107,107,107,107,107,107,107,107,107,107,107,107,107,107,107,107,107,107,108,108,108,108,108,108,108,108,108,108,108,108,108,108,108,108,108,108,108,108,108,108,108,108,108,108,108,108,108,108,108,108,108,108,108,108,108,109,109,109,109,109,109,109,109,109,109,109,109,109,109,109,109,109,109,109,109,109,110,110,110,110,110,110,110,110,110,110,110,110,110,110,110,110,110,110,110,110,110,110,111,111,111,111,111,111,111,111,111,111,111,111,111,111,111,111,111,111,111,111,111,112,112,112,112,112,112,112,112,112,112,112,112,112,112,112,112,112,112,112,113,113,113,113,113,113,113,113,113,113,113,113,113,113,113,113,113,113,114,114,114,114,114,114,114,114,114,114,115,115,115,115,115,115,115,115,115,115,115,115,116,116,116,116,116,116,116,116,116,116,116,116,117,117,117,117,117,118,118,118,118,118,118,118,118,118,118,118,119,119,119,119,119,119,120,120,120,120,120,120,121,121,121,121,121,122,122,122,122,122,122,122,122,123,123,125,125,125,125,126,127,131,132,141]"
   ]
  },
  {
   "cell_type": "code",
   "execution_count": 1,
   "metadata": {
    "collapsed": true
   },
   "outputs": [],
   "source": [
    "import numpy as np\n",
    "\n",
    "mu, sigma = 50, 25 # mean and standard deviation\n",
    "s = np.random.normal(mu, sigma, 1000)"
   ]
  },
  {
   "cell_type": "code",
   "execution_count": 18,
   "metadata": {},
   "outputs": [
    {
     "data": {
      "image/png": "[encoded data removed]",
      "text/plain": [
       "<matplotlib.figure.Figure at 0x10d88e6d8>"
      ]
     },
     "metadata": {},
     "output_type": "display_data"
    }
   ],
   "source": [
    "%matplotlib inline\n",
    "import matplotlib.pyplot as plt\n",
    "count, bins, ignored = plt.hist(s, 30, normed=True)\n",
    "plt.plot(bins, 1/(sigma * np.sqrt(2 * np.pi)) * np.exp( - (bins - mu)**2 / (2 * sigma**2) ), linewidth=2, color='r')\n",
    "plt.show()"
   ]
  },
  {
   "cell_type": "code",
   "execution_count": null,
   "metadata": {
    "collapsed": true
   },
   "outputs": [],
   "source": [
    "#A function which tells you the probability\n",
    "#that the outcome of a certain experiment\n",
    "#will be the value passed to X\n",
    "def diceroll_p(X):\n",
    "    if X == 1:\n",
    "        return 1/6\n",
    "    elif X == 2:\n",
    "        return 1/6\n",
    "    elif X == 3:\n",
    "        return 1/6\n",
    "    elif X == 4:\n",
    "        return 1/6\n",
    "    elif X == 5:\n",
    "        return 1/6\n",
    "    elif X == 6:\n",
    "        return 1/6\n",
    "    \n",
    "def cards_p(X):\n",
    "    if X == \"red\" || X == \"black\":\n",
    "        return 26/52\n",
    "    elif X == \"face\":\n",
    "        return 12/52\n",
    "    elif type(X) == int:\n",
    "        return 4/52"
   ]
  },
  {
   "cell_type": "code",
   "execution_count": 20,
   "metadata": {
    "collapsed": true
   },
   "outputs": [],
   "source": [
    "??np.random.sample"
   ]
  },
  {
   "cell_type": "code",
   "execution_count": 1,
   "metadata": {
    "collapsed": true
   },
   "outputs": [],
   "source": [
    "#How to generate pseudo random numbers from a particular distribution\n",
    "import matplotlib.pyplot as plt\n",
    "import numpy as np"
   ]
  },
  {
   "cell_type": "code",
   "execution_count": 16,
   "metadata": {},
   "outputs": [
    {
     "data": {
      "text/plain": [
       "24.0"
      ]
     },
     "execution_count": 16,
     "metadata": {},
     "output_type": "execute_result"
    }
   ],
   "source": [
    "from scipy import special\n",
    "special.gamma(5)"
   ]
  },
  {
   "cell_type": "code",
   "execution_count": 28,
   "metadata": {
    "collapsed": true
   },
   "outputs": [],
   "source": [
    "# Take a probability density function\n",
    "\n",
    "def fx(x):\n",
    "    mu = lam = 1\n",
    "    n = -(x-1)**2/2*x\n",
    "    return (math.exp(n)*(1/(2*math.pi*x**3)))**0.5\n",
    "\n",
    "def Fu(u):\n",
    "    if u < 0:\n",
    "        return 0\n",
    "    elif u <= 1:\n",
    "        return u\n",
    "    else return 1\n",
    "\n"
   ]
  },
  {
   "cell_type": "markdown",
   "metadata": {},
   "source": [
    "Integrating the density function gives the distribution function and differentiating the distribution function gives the density function\n",
    "\n",
    "- Random Variable Y has distribution function Fy.\n",
    "- U is distributed uniformly in (0,1), and therefore Fu(u) = u\n",
    "- W is another Random Variable defined as \n",
    "- F inverse of y evaluated at U (You have a random variable, you apply a function to that random variable. In this case the function is the inverse of Fy.\n",
    "- Then the distribution of W is the same as the distribution of y.\n",
    "\n",
    "So if W is the distribution that you want, and you have the inverse of that distribution Finv, applying Finv to a uniform distribution U will produce the required distribution."
   ]
  },
  {
   "cell_type": "markdown",
   "metadata": {},
   "source": [
    "### Important commentary\n",
    "\n",
    "- One thing I had to keep reminding myself was that when I'm looking at the graph of a distribution, the random variables are on the X-axis, not the Y-axis. e.g., when I look at a Gaussian curve, and let's say the peak is at x = 5, with y = 0.7, I had to keep reminding myself that 5 is the important number here, and 0.7 is just the probability or normalized frequency with which I will see 5 when I see a bunch of random readings, say {1, 2, 3, 4, 5, 6, 7, 8, 9}"
   ]
  },
  {
   "cell_type": "markdown",
   "metadata": {},
   "source": [
    "### Introduction (from DeGroot)\n",
    "\n",
    "**If there's one takeaway from my course on probability it was this:**\n",
    "The distribution of a random variable X contains all of the probabilistic information about X. The entire distribution of X, however, is usually too cumbersome for presenting this information. Summaries of the distribution, such as the average value, or expected value, can be useful for giving people an idea of where we expect X to be without trying to describe the entire distribution.\n",
    "\n",
    "### Expectation\n",
    "\n",
    "- It really helped to see expectation in a couple of different ways to understand what it was, but the most important thing for me was that if you know the English meaning of expectation, then that's exactly what the mathematical meaning is as well. There is always a notion of getting something associated with expectation - you're expecting maybe money, a number, etc.\n",
    "\n",
    "#### The expectation of a coin toss\n",
    "- A random variable is a number associated with an outcome, right?\n",
    "- In a coin toss you can only have two outcomes Heads or Tails.\n",
    "- You need to associate numbers with these outcomes. You are free to do choose any.\n",
    "- Let's try several options.\n",
    "- H = 0, T = 1. p(H) = 0.5, p(T) = 0.5.\n",
    "    - One thing that helped me concretize the concept of expectation was to associate money as the random variable, and ask how much money would you make after a number of coin tosses.\n",
    "    - So here, it's as if we are saying for every head you will get \\$0, and for every tail you will get \\$1.\n",
    "    - If you tossed the coin a hundred times, how much money do you *expect* to have in hand?\n",
    "    - According to the probabilities given, you will see heads 50 times, for which you will make no money, and you will see tails 50 times, for which you will make \\$1 each time. So you expect \\$50 at the end of 100 trials.\n",
    "    - And that's what the formula for expectation really is.\n",
    "- H = -1, T = 1. p(H) = 0.5, p(T) = 0.5.\n",
    "    - Here you lose \\$1 for each time you see a heads and win \\$1 for each tail. What's your expectation at the end of 100 trials? Zero dollars.\n",
    "    - Notice that even if I asked you your expectation for 1 trial 101 trials, your answer would still be 0. The idea is that everything is hypothetical, and every trial is actually split as if a single trial gives you 0.5 heads and 0.5 tails.\n",
    "    - And that's why when calculating expectations, you only need the probabilty and the number associated with the outcome, and not the number of trials. But thinking in terms of number of trials helps you concretize the concept.\n",
    "- H = 0, T = 1. p(H) = 0.75, p(T) = 0.25.\n",
    "    - Again, if I asked you how much money you'd expect to have after 100 trials, your answer should be \\$25. What would be your expectation for a single trial? 25 cents. Notice that you will never actually exchange 25 cents ever. You only ever stand to make 0 or 1 dollars. But we're not dealing with concrete situations. What we're saying is that if we stand to make \\$25 after 100 trials, we can expect make 25 cents every trial. That's how mean and expectation turn out to be the same thing. 25 cents is what you stand to make *on average* per trial.\n",
    "    \n",
    "#### The expectation of a die roll\n",
    "- You have heard that the expectation of a die roll is 3.5, even though you never actually see 3.5 on any roll.\n",
    "- What is implicit in this is that the numbers associated with each side is {1, 2, 3, 4, 5, 6} and the probability of each side showing up is 1/6. If different numbers were associated with each side say {2, 4, 6, 8, 10, 12} and the probability of each side was different, say {1/4, 1/4, 1/4, 1/12, 1/12, 1/12}, then you'd have a different expectation."
   ]
  },
  {
   "cell_type": "code",
   "execution_count": 13,
   "metadata": {},
   "outputs": [
    {
     "data": {
      "text/plain": [
       "3.5"
      ]
     },
     "execution_count": 13,
     "metadata": {},
     "output_type": "execute_result"
    }
   ],
   "source": [
    "rv = np.array([1, 2, 3, 4, 5, 6])\n",
    "prob = np.array([1/6, 1/6, 1/6, 1/6, 1/6, 1/6])\n",
    "expectation = np.dot(rv, prob)\n",
    "expectation"
   ]
  },
  {
   "cell_type": "code",
   "execution_count": 12,
   "metadata": {},
   "outputs": [
    {
     "data": {
      "text/plain": [
       "5.5"
      ]
     },
     "execution_count": 12,
     "metadata": {},
     "output_type": "execute_result"
    }
   ],
   "source": [
    "rv = np.array([2, 4, 6, 8, 10, 12])\n",
    "prob = np.array([1/4, 1/4, 1/4, 1/12, 1/12, 1/12])\n",
    "expectation = np.dot(rv, prob)\n",
    "expectation"
   ]
  },
  {
   "cell_type": "markdown",
   "metadata": {},
   "source": [
    "### Summary (from DeGroot)\n",
    "\n",
    "The expectation, expected value, or mean of a random variable is a summary of its distribution. If the probability distribution is thought of as a distribution of mass along the real line, then the mean is the center of mass. The mean of a function r of a random variable X can be calculated directly from the distribution of X without first finding the distribution of r(X). Similarly, the mean of a function of a random vector X can be calculated directly from the distribution of X.\n",
    "\n",
    "### Important commentary\n",
    "\n",
    "One way to think about probability is nothing more than a function appllied to a random variable. That is, just like a function takes in a input argument x and returns the corresponding value y (e.g. square(x = 2) => 4), probabilities are also the same p(toss = head) = 0.5, or p(roll = 1) = 1/6. And once this is established, expectation of functions becomes no different a concept that the expectation that we are used to.\n",
    "\n",
    "### Variance\n",
    "\n",
    "### Introduction (from DeGroot)\n",
    "\n",
    "Although the mean of a distribution is a useful summary, it does not convey very much information about the distribution. For example, a random variable X with mean 2 has the same mean as the constant random variable Y such that Pr(Y = 2) = 1 even if X is not constant. To distinguish the distribution of X from the distribution of Y in this case, it might be useful to give some measure of how spread out the distribution of X is. The variance of X is one such measure. The standard deviation of X is the square root of the variance. \n",
    "\n",
    "**This continues the theme of summarizing distributions, which really is the crux of the topics from chapters 3 to 6.**\n",
    "\n",
    "And once you understand that *this* is what these chapters are all about, then **moments** automatically fall into place. Moments are a way of summarizing distributions.\n",
    "- The first moment is mean\n",
    "    - It tells you what the center of mass of a distribution is.\n",
    "- The second moment is variance\n",
    "    - It tells you how far data is spread out. (http://www.statisticshowto.com/probability-and-statistics/variance/)\n",
    "- The third moment is skewness\n",
    "    - A measure of symmetry in a distribution. Actually, it’s more correct to describe it as a measure of lack of symmetry. (http://www.statisticshowto.com/skewness/) \n",
    "- The fourth moment is kurtosis\n",
    "    - A measure of how 'peaked' your graph is, or how high the graph is around the mean. (http://www.statisticshowto.com/kurtosis/)"
   ]
  }
 ],
 "metadata": {
  "kernelspec": {
   "display_name": "Python 3",
   "language": "python",
   "name": "python3"
  },
  "language_info": {
   "codemirror_mode": {
    "name": "ipython",
    "version": 3
   },
   "file_extension": ".py",
   "mimetype": "text/x-python",
   "name": "python",
   "nbconvert_exporter": "python",
   "pygments_lexer": "ipython3",
   "version": "3.6.1"
  }
 },
 "nbformat": 4,
 "nbformat_minor": 1
}
